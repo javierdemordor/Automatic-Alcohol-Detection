{
 "cells": [
  {
   "cell_type": "markdown",
   "metadata": {},
   "source": [
    "<h1 align=\"center\">Proyecto \"Drunk\"</h1>\n",
    "\n",
    "<h2 align=\"center\">Trabajo académico: Speech recognition</h2>\n",
    "<h3 align=\"center\">Javier Muinelo Monteagudo e Iria Durán Lusquiños</h3>\n",
    "<h3 align=\"center\">Equipo: 3</h3>"
   ]
  },
  {
   "cell_type": "markdown",
   "metadata": {},
   "source": [
    "## Índice\n",
    "0. ### [Librerías](#librerias)\n",
    "1. ### [Carga de los datos](#carga)\n",
    "1. ### [Preprocesamiento](#preproceso)\n",
    "1. ### [Entrenamiento](#extraccion)\n",
    "31. ### [Modelos clasicos](#clas)\n",
    "32. ### [redes neuronales ](#sel)\n",
    "33. ### [combinacion de modelos](#mod1)\n",
    "1. ### [resultados](#mod2)\n"
   ]
  },
  {
   "cell_type": "markdown",
   "metadata": {},
   "source": [
    "<a id='librerias'></a>\n",
    "\n",
    "# 0. Librerías"
   ]
  },
  {
   "cell_type": "code",
   "execution_count": 1,
   "metadata": {},
   "outputs": [],
   "source": [
    "#carga de los datos\n",
    "import pandas as pd\n",
    "from sklearn.pipeline import Pipeline\n",
    "import re \n",
    "\n",
    "#regresion logistica\n",
    "from sklearn.linear_model import LogisticRegression\n",
    "\n",
    "#svm\n",
    "from sklearn import svm\n",
    "from sklearn import model_selection\n",
    "from sklearn.model_selection import cross_val_score\n",
    "from sklearn.model_selection import GridSearchCV\n",
    "\n",
    "from sklearn.metrics import f1_score\n",
    "from sklearn.model_selection import train_test_split\n",
    "\n",
    "#naive de bayes \n",
    "from sklearn import naive_bayes\n",
    "from sklearn.naive_bayes import BernoulliNB\n",
    "from sklearn.naive_bayes import ComplementNB \n",
    "\n",
    "#perceptron multicapa\n",
    "from sklearn.neural_network import MLPClassifier\n",
    "from sklearn.preprocessing import StandardScaler\n",
    "\n",
    "\n",
    "#arbol de decision\n",
    "from sklearn import tree\n",
    "\n",
    "#Combinacion de modelos\n",
    "from sklearn.ensemble import BaggingClassifier\n",
    "from sklearn.ensemble import AdaBoostClassifier\n",
    "from sklearn.ensemble import StackingClassifier\n",
    "\n",
    "#red neuronal\n",
    "import tensorflow as tf                               # tensorflow library provides functions for deep neural networks \n",
    "from tensorflow.keras.datasets import fashion_mnist   # to load the fashion mnist data set\n",
    "import matplotlib.pyplot as plt                       # provides functios to visualize data\n",
    "import numpy as np                                    # provides functions for matrix computations\n",
    "from sklearn.metrics import classification_report     # function for computing classification metrics \n",
    "from numpy.random import seed                         # for reproducibility \n",
    "seed(1)\n",
    "tf.random.set_seed(1)\n",
    "# ignorar warnings\n",
    "#import warnings\n",
    "#warnings.filterwarnings(\"ignore\")\n",
    "\n",
    "from sklearn.metrics import accuracy_score\n",
    "from sklearn.metrics import f1_score\n",
    "\n",
    "# Tratamiento de datos\n",
    "# ==============================================================================\n",
    "import numpy as np\n",
    "import pandas as pd\n",
    "import statsmodels.api as sm\n",
    "\n",
    "# Gráficos\n",
    "# ==============================================================================\n",
    "import matplotlib.pyplot as plt\n",
    "import matplotlib.font_manager\n",
    "from matplotlib import style\n",
    "style.use('ggplot') or plt.style.use('ggplot')\n",
    "\n",
    "# Preprocesado y modelado\n",
    "# ==============================================================================\n",
    "from sklearn.decomposition import PCA\n",
    "from sklearn.pipeline import make_pipeline\n",
    "from sklearn.preprocessing import StandardScaler\n",
    "from sklearn.preprocessing import scale\n",
    "\n",
    "\n",
    "#red neuronal\n",
    "import numpy as np                  # library for numerical computations (vectors, matrices, tensors)\n",
    "import matplotlib.pyplot as plt     # library providing tools for plotting data \n",
    "import tensorflow as tf             # end-to-end open source platform for deep learning\n",
    "from tensorflow import keras        # library providing methods for defining and training ANN \n",
    "from tensorflow.keras import layers \n",
    "\n",
    "from sklearn.metrics import confusion_matrix \n",
    "\n",
    "# Configuración warnings\n",
    "# ==============================================================================\n",
    "import warnings"
   ]
  },
  {
   "cell_type": "markdown",
   "metadata": {},
   "source": [
    "<a id='carga'></a>\n",
    "\n",
    "# 1. Cargar de los datos (caracteristicas de los audios)\n"
   ]
  },
  {
   "cell_type": "markdown",
   "metadata": {},
   "source": [
    "y dividirlos en train y test "
   ]
  },
  {
   "cell_type": "code",
   "execution_count": 2,
   "metadata": {},
   "outputs": [],
   "source": [
    "labels = pd.read_csv(\"labels.csv\")\n",
    "sample = pd.read_csv(\"final.csv\")"
   ]
  },
  {
   "cell_type": "code",
   "execution_count": 3,
   "metadata": {},
   "outputs": [],
   "source": [
    "def name_labels (string):\n",
    "    return re.sub (\"_annot.json\",\"\",string)\n",
    "         \n",
    "def name_sample (string):\n",
    "    return re.sub (\".wav.csv\",\"\",string)"
   ]
  },
  {
   "cell_type": "markdown",
   "metadata": {},
   "source": [
    "<a id='preproceso'></a>\n",
    "\n",
    "# 2. Preprocesamiento"
   ]
  },
  {
   "cell_type": "code",
   "execution_count": 4,
   "metadata": {},
   "outputs": [
    {
     "name": "stderr",
     "output_type": "stream",
     "text": [
      "<ipython-input-4-82361a921365>:12: SettingWithCopyWarning: \n",
      "A value is trying to be set on a copy of a slice from a DataFrame.\n",
      "Try using .loc[row_indexer,col_indexer] = value instead\n",
      "\n",
      "See the caveats in the documentation: https://pandas.pydata.org/pandas-docs/stable/user_guide/indexing.html#returning-a-view-versus-a-copy\n",
      "  labels2['class'] = labels2['class'].replace(\"cna\", 'a')\n"
     ]
    }
   ],
   "source": [
    "#eliminamos columnas inutiles\n",
    "sample1 = sample.iloc[:,1:4370] \n",
    "labels1= labels.iloc[:,1:]\n",
    "#renombramos columnas\n",
    "sample1[\"name\"] = sample1[\"name\"].apply(name_sample)\n",
    "\n",
    "labels1.columns = [\"name\",\"class\"]\n",
    "labels1[\"name\"] = labels1[\"name\"].apply(name_labels)\n",
    "\n",
    "#eliminammos aquellas muestras sin clasifica\n",
    "labels2 = labels1[labels1[\"class\"] != \"-1\"]\n",
    "labels2['class'] = labels2['class'].replace(\"cna\", 'a')\n",
    "\n",
    "#concatenamos\n",
    "dataframe = labels2.merge(sample1)\n",
    "\n",
    "#dividimos en x e y \n",
    "x= dataframe.iloc[:,2:4370]\n",
    "y=dataframe.iloc[:,1] \n",
    "\n",
    "\n",
    "#split\n",
    "x_train, x_test, y_train, y_test =  train_test_split(x,y, test_size=0.2)\n",
    "\n",
    "#estandarizamos \n",
    "x_std = StandardScaler().fit_transform(x_train)\n",
    "x_std_test = StandardScaler().fit_transform(x_test)\n",
    "\n",
    "\n",
    "#pca\n",
    "pca = PCA(n_components = 1500)\n",
    "x_train_pca = pca.fit_transform(x_std)\n",
    "x_test_pca = pca.transform(x_std_test)\n",
    "\n",
    "\n",
    "#para red neuronal no puede ser y calificativo\n",
    "\n",
    "y_train_RN = y_train.copy()\n",
    "y_train_RN = y_train_RN.replace(\"a\", 1)\n",
    "y_train_RN =y_train_RN.replace(\"na\", 0)\n",
    "\n",
    "y_test_RN = y_test.copy()\n",
    "y_test_RN = y_test_RN.replace(\"a\", 1)\n",
    "y_test_RN =y_test_RN.replace(\"na\", 0)\n",
    "\n",
    "#convertimos en array para entrenar\n",
    "x_train_RN=np.asarray(x_train_pca).astype(np.float)\n",
    "y_train_RN=np.asarray(y_train_RN).astype(np.int)\n",
    "\n"
   ]
  },
  {
   "cell_type": "code",
   "execution_count": 42,
   "metadata": {},
   "outputs": [
    {
     "data": {
      "text/plain": [
       "(15180, 4370)"
      ]
     },
     "execution_count": 42,
     "metadata": {},
     "output_type": "execute_result"
    }
   ],
   "source": [
    "dataframe.shape"
   ]
  },
  {
   "cell_type": "markdown",
   "metadata": {},
   "source": [
    "<a id='class'></a>\n",
    "# 3. Clasificación"
   ]
  },
  {
   "cell_type": "code",
   "execution_count": 5,
   "metadata": {},
   "outputs": [],
   "source": [
    "\n",
    "\n",
    "def plot_confusion_matrix(cm,f1,\n",
    "                          target_names,\n",
    "                          title='Confusion matrix',\n",
    "                          cmap=None,\n",
    "                          normalize=True):\n",
    "    \"\"\"\n",
    "    given a sklearn confusion matrix (cm), make a Nice plot\n",
    "\n",
    "    Arguments\n",
    "    ---------\n",
    "    cm:           confusion matrix from sklearn.metrics.confusion_matrix\n",
    "\n",
    "    target_names: given classification classes such as [0, 1, 2]\n",
    "                  the class names, for example: ['high', 'medium', 'low']\n",
    "\n",
    "    title:        the text to display at the top of the matrix\n",
    "\n",
    "    cmap:         the gradient of the values displayed from matplotlib.pyplot.cm\n",
    "                  see http://matplotlib.org/examples/color/colormaps_reference.html\n",
    "                  plt.get_cmap('jet') or plt.cm.Blues\n",
    "\n",
    "    normalize:    If False, plot the raw numbers\n",
    "                  If True, plot the proportions\n",
    "\n",
    "    Usage\n",
    "    -----\n",
    "    plot_confusion_matrix(cm           = cm,                  # confusion matrix created by\n",
    "                                                              # sklearn.metrics.confusion_matrix\n",
    "                          normalize    = True,                # show proportions\n",
    "                          target_names = y_labels_vals,       # list of names of the classes\n",
    "                          title        = best_estimator_name) # title of graph\n",
    "\n",
    "    Citiation\n",
    "    ---------\n",
    "    http://scikit-learn.org/stable/auto_examples/model_selection/plot_confusion_matrix.html\n",
    "\n",
    "    \"\"\"\n",
    "    import matplotlib.pyplot as plt\n",
    "    import numpy as np\n",
    "    import itertools\n",
    "\n",
    "    accuracy = np.trace(cm) / float(np.sum(cm))\n",
    "    \n",
    "\n",
    "    if cmap is None:\n",
    "        cmap = plt.get_cmap('YlOrBr')\n",
    "\n",
    "    plt.figure(figsize=(8, 6))\n",
    "    plt.imshow(cm, interpolation='nearest', cmap=cmap)\n",
    "    plt.title(title)\n",
    "    plt.colorbar()\n",
    "\n",
    "    if target_names is not None:\n",
    "        tick_marks = np.arange(len(target_names))\n",
    "        plt.xticks(tick_marks, target_names, rotation=45)\n",
    "        plt.yticks(tick_marks, target_names)\n",
    "\n",
    "    if normalize:\n",
    "        cm = cm.astype('float') / cm.sum(axis=1)[:, np.newaxis]\n",
    "\n",
    "\n",
    "    thresh = cm.max() / 1.5 if normalize else cm.max() / 2\n",
    "    for i, j in itertools.product(range(cm.shape[0]), range(cm.shape[1])):\n",
    "        if normalize:\n",
    "            plt.text(j, i, \"{:0.4f}\".format(cm[i, j]),\n",
    "                     horizontalalignment=\"center\",\n",
    "                     color=\"white\" if cm[i, j] > thresh else \"black\")\n",
    "        else:\n",
    "            plt.text(j, i, \"{:,}\".format(cm[i, j]),\n",
    "                     horizontalalignment=\"center\",\n",
    "                     color=\"white\" if cm[i, j] > thresh else \"black\")\n",
    "\n",
    "\n",
    "    plt.tight_layout()\n",
    "    plt.ylabel('True label')\n",
    "    if f1 == None : \n",
    "        plt.xlabel('Predicted label\\naccuracy={:0.4f}'.format(accuracy))\n",
    "    else:\n",
    "        plt.xlabel('Predicted label\\naccuracy={:0.4f}; f1={:0.4f}'.format(accuracy, f1))\n",
    "    plt.show()"
   ]
  },
  {
   "cell_type": "markdown",
   "metadata": {},
   "source": [
    "<a id='sel'></a>\n",
    "## 3.1 Modelos clasicos \n",
    "Para la selección de modelos, se tuvieron en cuenta los siguientes modelos implementados a partir de la librería sklearn :\n",
    "- SVM\n",
    "- Regresión Logistica\n",
    "- Árboles de decisión\n",
    "- Perceptrón multicapa\n",
    "\n",
    "\n",
    "Por otro lado, se ha utilizado la técnica de validación cruzada para evaluar los resultados obtenidos por cada modelo. Dicha técnica consiste en dividir el dataset train en  subconjuntos de entrenamiento y validación lo que nos permite calcular una probabilidad de ser o no sexista y por tanto una clasificación en dichos grupos  más ajustada a la realidad. En esta etapa se ha decidido limitar el k-fold a 10. Es importante mencionar que los resultados obtenidos  pueden variar en cada ejecución debido a la semilla utilizada en esta técnica.  No obstante, los resultados son similares en cada vez.  Por otro lado, destacar que somos conocedores de la posibilidad de realizar dicha técnica dentro de la función **GridSearchCV** más no nos permite seleccionar el modelo en función de dos métricas por lo que decidimos entrenar el modelo teniendo en cuenta el mejor acuracy y luego calcular con una validación cruzada para obtener el F1 de cada modelo. \n"
   ]
  },
  {
   "cell_type": "code",
   "execution_count": 6,
   "metadata": {},
   "outputs": [],
   "source": [
    "#este es el predefinido \n",
    "k = 10\n",
    "kf = model_selection.KFold(n_splits = k, random_state = None)"
   ]
  },
  {
   "cell_type": "markdown",
   "metadata": {},
   "source": [
    "### 3.1.1 SVM"
   ]
  },
  {
   "cell_type": "markdown",
   "metadata": {},
   "source": [
    "En cuanto a las métricas utilizadas para evaluar el modelo se han seleccionado, dado que estas son las que se van a tener en cuenta en la competición ,la accurancy y el F1 siendo estos:\n",
    "- Accurancy: precisión del modelo entrenado, es decir, porcentaje de textos bien clasificados. \n",
    "- F1: promedio ponderado de la precisión y la recuperación, donde una puntuación alcanza su mejor valor en 1 y la peor puntuación en 0."
   ]
  },
  {
   "cell_type": "markdown",
   "metadata": {},
   "source": [
    "El modelo de **máquinas de vectores soporte (SVM)** construye un hiperplano en un espacio multidimensional para separar diferentes clases y genera un hiperplano óptimo de manera iterativa  que maximiza la division de las clases de la base de datos y por lo tanto minimiza los errores .\n",
    "\n",
    "Destacar el hecho de que el presente modelo permite la definción de desbalanceo de clases (`class_weight = 'balanced'`) por lo que no es necesario realizar un analisis previo para solventar dicho problema.\n",
    "\n",
    "Los parámetros que se han tenido en cuenta para la selección y,  por tanto, se han ido modificando son los siguientes:\n",
    "   \n",
    "   - `C` : **float**, default=1.0\n",
    "     \n",
    "     Recoge la regularización del modelo, es decir, controla cuánto error es soportable en la optimización lo que permite reducir el sobreajuste. Cuanto más grande es el valor de C más grande es el margen del hiperplano. \n",
    "     \n",
    "    \n",
    "   - `kernel`: **{'linear', 'poly', 'rbf', 'sigmoid', 'precomputed'}**, default='rbf'\n",
    "    \n",
    "     Especifica el tipo de núcleo que se utilizará en el algoritmo. Debe ser uno de los siguientes: 'linear', 'poly', 'rbf', 'sigmoid', 'precomputed'. Si no se indica ninguno, se utilizará \"rbf\".\n",
    "     \n",
    "     \n",
    "   - `gamma`: **{'scale', 'auto'}** o float, default='scale'.\n",
    "    \n",
    "     Coeficiente del núcleo para 'rbf', 'poly' y 'sigmoid'\n"
   ]
  },
  {
   "cell_type": "code",
   "execution_count": 7,
   "metadata": {},
   "outputs": [
    {
     "ename": "SyntaxError",
     "evalue": "EOL while scanning string literal (<ipython-input-7-a802c8f83e02>, line 4)",
     "output_type": "error",
     "traceback": [
      "\u001b[0;36m  File \u001b[0;32m\"<ipython-input-7-a802c8f83e02>\"\u001b[0;36m, line \u001b[0;32m4\u001b[0m\n\u001b[0;31m    \"\"\"\"\u001b[0m\n\u001b[0m        \n^\u001b[0m\n\u001b[0;31mSyntaxError\u001b[0m\u001b[0;31m:\u001b[0m EOL while scanning string literal\n"
     ]
    }
   ],
   "source": [
    "\"\"\"\"\n",
    "modelsvm = svm.SVC(class_weight = 'balanced', gamma = 'scale',kernel= 'linear')\n",
    "modelsvm.fit(x_train1, y_train1)\n",
    "\"\"\"\""
   ]
  },
  {
   "cell_type": "code",
   "execution_count": null,
   "metadata": {},
   "outputs": [],
   "source": [
    "\"\"\"\"modelsvm = GridSearchCV(estimator=svm.SVC(class_weight = 'balanced', gamma = 'scale'), param_grid={'C': [0.5,0.75,1], 'kernel': ('linear','sigmoid', 'rbf')})\n",
    "modelsvm.fit(x_train1, y_train1)\"\"\"\""
   ]
  },
  {
   "cell_type": "markdown",
   "metadata": {},
   "source": [
    "Mejores parametros"
   ]
  },
  {
   "cell_type": "markdown",
   "metadata": {},
   "source": [
    "Resultados"
   ]
  },
  {
   "cell_type": "code",
   "execution_count": null,
   "metadata": {},
   "outputs": [],
   "source": [
    "\"\"\"pred = clf.predict(X_test)\n",
    "\n",
    "score = accuracy_score(y_test, pred)\n",
    "print(\"Accuracy:   %0.3f\" % score)\n",
    "\n",
    "f1 = f1_score(y_test, pred, average='weighted')\n",
    "print(\"      F1:   %0.3f\" % f1)\"\"\""
   ]
  },
  {
   "cell_type": "markdown",
   "metadata": {},
   "source": [
    "### 3.1.2 Regresión Logistica"
   ]
  },
  {
   "cell_type": "markdown",
   "metadata": {},
   "source": [
    "La **regresión logísta** es un modelo para clasificación que aprende una relación lineal del conjunto de datos dado y luego introduce una no linealidad con la función logística.\n",
    "\n",
    "Como sucedía en el caso anterior, permite definir que las clases de la base de datos se encuentran  desbalanceadas  (`class_weight = 'balanced'`) por lo que no es necesario realizar un analisis previo para solventar dicho problema."
   ]
  },
  {
   "cell_type": "markdown",
   "metadata": {},
   "source": [
    "Los parámetros que consideramos más importantes y por tanto vamos a probar son:\n",
    "    \n",
    "   - `C` : **float**, default=1.0\n",
    " \n",
    "     Inverso de la fuerza de regularización; debe ser un número positivo. Como en las máquinas de vectores de apoyo, los valores más pequeños especifican una regularización más fuerte.\n",
    "     \n",
    "     \n",
    "   - `solver`: **{'newton-cg', 'lbfgs', 'liblinear', 'sag', 'saga'}**, default='lbfgs'\n",
    "    \n",
    "      Algoritmo a utilizar en el problema de optimización.\n",
    "      \n",
    "      \n",
    "   - `max_iter`: **int**, default=100\n",
    "   \n",
    "      Número máximo de iteraciones que tardan los solucionadores en converger."
   ]
  },
  {
   "cell_type": "code",
   "execution_count": 8,
   "metadata": {},
   "outputs": [
    {
     "data": {
      "text/plain": [
       "LogisticRegression(C=0.4, multi_class='ovr', solver='liblinear')"
      ]
     },
     "execution_count": 8,
     "metadata": {},
     "output_type": "execute_result"
    }
   ],
   "source": [
    "#modelrl = GridSearchCV(estimator=LogisticRegression(multi_class  ='ovr'), param_grid={'C': [0.1, 0.2, 0.3, 0.4, 0.5, 0.6, 0.7, 0.8, 0.9, 1], 'solver' : ('newton-cg', 'lbfgs', 'liblinear', 'sag', 'saga'), 'max_iter' : [100, 200, 300]}, cv=kf)\n",
    "modelrl = LogisticRegression(multi_class  = 'ovr', C = 0.4, max_iter = 100, solver = 'liblinear')\n",
    "modelrl.fit(x_train_pca, y_train)\n"
   ]
  },
  {
   "cell_type": "markdown",
   "metadata": {},
   "source": [
    "Mejores parametros"
   ]
  },
  {
   "cell_type": "code",
   "execution_count": 9,
   "metadata": {},
   "outputs": [],
   "source": [
    "#print(\"La mejor combinación de parámetros probados para el modelo es {} \" .format(modelrl.best_params_))"
   ]
  },
  {
   "cell_type": "markdown",
   "metadata": {},
   "source": [
    "Resultados"
   ]
  },
  {
   "cell_type": "code",
   "execution_count": 10,
   "metadata": {},
   "outputs": [
    {
     "name": "stdout",
     "output_type": "stream",
     "text": [
      "Accuracy:   0.732\n",
      "      F1:   0.728\n"
     ]
    }
   ],
   "source": [
    "pred_rl = modelrl.predict(x_test_pca)\n",
    "\n",
    "score_rl = accuracy_score(y_test, pred_rl)\n",
    "print(\"Accuracy:   %0.3f\" % score_rl)\n",
    "\n",
    "f1_rl = f1_score(y_test, pred_rl, average='weighted')\n",
    "print(\"      F1:   %0.3f\" % f1_rl)"
   ]
  },
  {
   "cell_type": "code",
   "execution_count": 34,
   "metadata": {},
   "outputs": [
    {
     "data": {
      "image/png": "[encoded data removed]",
      "text/plain": [
       "<Figure size 576x432 with 2 Axes>"
      ]
     },
     "metadata": {},
     "output_type": "display_data"
    }
   ],
   "source": [
    "cm_rl =confusion_matrix (y_test, pred_rl, labels=[\"a\", \"na\"])\n",
    "plot_confusion_matrix(cm_rl,f1_rl,\n",
    "                          [\"a\",\"na\"],\n",
    "                          title='Logistic Regression',\n",
    "                          cmap=None,\n",
    "                          normalize=True)"
   ]
  },
  {
   "cell_type": "markdown",
   "metadata": {},
   "source": [
    "## 3.1.3 Perceptrón multicapa"
   ]
  },
  {
   "cell_type": "markdown",
   "metadata": {},
   "source": [
    "El **perceptrón multicapa** es una red neuronal artificial (RNA) formada por múltiples capas, de tal manera que tiene capacidad para resolver problemas que no son linealmente separables.\n",
    "\n",
    "Se utilizan redes neuronales formadas por capas de neuronas.\n",
    "\n",
    "La capa de entrada está formada por los valores que toman las características con las que se va a\n",
    "alimentar la red. Es decir, en esta capa no se va a aplicar ninguna función a los datos."
   ]
  },
  {
   "cell_type": "markdown",
   "metadata": {},
   "source": [
    "Los parámetros de este modelo que vamos a probar son:\n",
    "   - `random_state`. Tipo entero. Por defecto=None\n",
    "      \n",
    "      Determina la generación de números aleatorios para la inicialización de los pesos y el sesgo, la división de entrenamiento-prueba si se utiliza la parada temprana y el muestreo por lotes cuando el solver='sgd' o 'adam'. Pase un int para que los resultados sean reproducibles a través de múltiples llamadas a la función.\n",
    "      \n",
    "      \n",
    "   - `max_iter`: Tipo entero. Por defecto = 200\n",
    "      \n",
    "      Número máximo de iteraciones. El solucionador itera hasta la convergencia (determinada por 'tol') o este número de iteraciones. Para los solucionadores estocásticos ('sgd', 'adam'), tenga en cuenta que esto determina el número de épocas (cuántas veces se utilizará cada punto de datos), no el número de pasos de gradiente.\n",
    "      \n",
    "      \n",
    "   - `activation`{‘identity’, ‘logistic’, ‘tanh’, ‘relu’}. Por defecto = ’relu’\n",
    "       \n",
    "       Función de activación para la capa oculta.\n",
    "      \n",
    "      - 'identity', activación no-op, útil para implementar el cuello de botella lineal, devuelve f(x) = x\n",
    "    \n",
    "      - 'logistic', la función sigmoidea logística, devuelve f(x) = 1 / (1 + exp(-x)).\n",
    "\n",
    "      - 'tanh', la función hiperbólica tan, devuelve f(x) = tanh(x).\n",
    "\n",
    "      - 'relu', la función lineal unitaria rectificada, devuelve f(x) = max(0, x).\n",
    "      \n",
    "   \n",
    "   - `solver`{‘lbfgs’, ‘sgd’, ‘adam’}. Por defecto = ’adam’\n",
    "   \n",
    "       El solucionador para la optimización del peso.\n",
    "       \n",
    "      - 'lbfgs' es un optimizador de la familia de los métodos quasi-Newton. 63\n",
    "\n",
    "      - 'sgd' se refiere al descenso de gradiente estocástico.\n",
    "\n",
    "      - 'adam' se refiere a un optimizador basado en el gradiente estocástico propuesto por Kingma, Diederik y Jimmy Ba.\n",
    "      \n",
    "       'adam' funciona bastante bien en conjuntos de datos relativamente grandes (con miles de muestras de entrenamiento o más) en términos de tiempo de entrenamiento y puntuación de validación. Sin embargo, para conjuntos de datos pequeños, 'lbfgs' puede converger más rápido y funcionar mejor."
   ]
  },
  {
   "cell_type": "markdown",
   "metadata": {},
   "source": [
    "### Adam"
   ]
  },
  {
   "cell_type": "code",
   "execution_count": 12,
   "metadata": {
    "scrolled": true
   },
   "outputs": [
    {
     "data": {
      "text/plain": [
       "MLPClassifier(activation='logistic', max_iter=100, random_state=1)"
      ]
     },
     "execution_count": 12,
     "metadata": {},
     "output_type": "execute_result"
    }
   ],
   "source": [
    "#modelpmAdam = GridSearchCV(estimator = MLPClassifier(random_state = 1, solver = 'adam'), param_grid={'activation':('identity', 'logistic', 'tanh', 'relu'), 'max_iter': [ 100,1000,10000] }, cv =kf) \n",
    "modelpmAdam = MLPClassifier( solver = 'adam', activation = \"logistic\",max_iter = 100,random_state = 1)\n",
    "modelpmAdam.fit(x_train_pca, y_train)\n",
    "\n",
    "\n"
   ]
  },
  {
   "cell_type": "code",
   "execution_count": 13,
   "metadata": {},
   "outputs": [
    {
     "name": "stdout",
     "output_type": "stream",
     "text": [
      "Accuracy:   0.745\n",
      "      F1:   0.742\n"
     ]
    }
   ],
   "source": [
    "#print(\"La mejor combinación de parámetros probados para el modelo es {} junto a los ya fijados\" .format(modelpmAdam.best_params_))\n",
    "\n",
    "pred_Adam = modelpmAdam.predict(x_test_pca)\n",
    "\n",
    "score_Adam = accuracy_score(y_test, pred_Adam)\n",
    "print(\"Accuracy:   %0.3f\" % score_Adam)\n",
    "\n",
    "f1_Adam = f1_score(y_test, pred_Adam, average='weighted')\n",
    "print(\"      F1:   %0.3f\" % f1_Adam)"
   ]
  },
  {
   "cell_type": "code",
   "execution_count": 14,
   "metadata": {},
   "outputs": [
    {
     "data": {
      "image/png": "[encoded data removed]",
      "text/plain": [
       "<Figure size 576x432 with 2 Axes>"
      ]
     },
     "metadata": {},
     "output_type": "display_data"
    }
   ],
   "source": [
    "cm_Adam =confusion_matrix (y_test, pred_Adam)\n",
    "plot_confusion_matrix(cm_Adam,f1_Adam,\n",
    "                          [\"a\",\"na\"],\n",
    "                          title='MLPClassifier . Adam solver',\n",
    "                          cmap=None,\n",
    "                          normalize=True)"
   ]
  },
  {
   "cell_type": "markdown",
   "metadata": {},
   "source": [
    "### SGD"
   ]
  },
  {
   "cell_type": "code",
   "execution_count": 15,
   "metadata": {},
   "outputs": [
    {
     "name": "stderr",
     "output_type": "stream",
     "text": [
      "/Users/iriaduran/opt/anaconda3/lib/python3.8/site-packages/sklearn/neural_network/_multilayer_perceptron.py:582: ConvergenceWarning: Stochastic Optimizer: Maximum iterations (100) reached and the optimization hasn't converged yet.\n",
      "  warnings.warn(\n"
     ]
    },
    {
     "data": {
      "text/plain": [
       "MLPClassifier(activation='logistic', max_iter=100, random_state=1, solver='sgd')"
      ]
     },
     "execution_count": 15,
     "metadata": {},
     "output_type": "execute_result"
    }
   ],
   "source": [
    "#modelpm_SGD = GridSearchCV(estimator = MLPClassifier(random_state = 1, solver =  'sgd'), param_grid={'activation':('identity', 'logistic', 'tanh', 'relu'), 'max_iter': [ 100,1000,10000] }, cv =kf) \n",
    "#modelpm = MLPClassifier( solver = 'sgd', activation = \"logistic\",max_iter = 100,random_state = 105)\n",
    "modelpm_SGD = MLPClassifier( solver = 'sgd', activation = \"logistic\",max_iter = 100,random_state = 1)\n",
    "modelpm_SGD.fit(x_train_pca, y_train)\n",
    "\n"
   ]
  },
  {
   "cell_type": "code",
   "execution_count": 16,
   "metadata": {},
   "outputs": [
    {
     "name": "stdout",
     "output_type": "stream",
     "text": [
      "Accuracy:   0.750\n",
      "      F1:   0.745\n"
     ]
    }
   ],
   "source": [
    "#print(\"La mejor combinación de parámetros probados para el modelo es {} junto a los ya fijados\" .format(modelpm_SGD.best_params_))\n",
    "\n",
    "pred_SGD = modelpm_SGD.predict(x_test_pca)\n",
    "\n",
    "score_SGD = accuracy_score(y_test, pred_SGD)\n",
    "print(\"Accuracy:   %0.3f\" % score_SGD)\n",
    "\n",
    "f1_SGD = f1_score(y_test, pred_SGD, average='weighted')\n",
    "print(\"      F1:   %0.3f\" % f1_SGD)"
   ]
  },
  {
   "cell_type": "code",
   "execution_count": 17,
   "metadata": {},
   "outputs": [
    {
     "data": {
      "image/png": "[encoded data removed]",
      "text/plain": [
       "<Figure size 576x432 with 2 Axes>"
      ]
     },
     "metadata": {},
     "output_type": "display_data"
    }
   ],
   "source": [
    "cm_SGD =confusion_matrix (y_test, pred_SGD)\n",
    "plot_confusion_matrix(cm_SGD,f1_SGD,\n",
    "                          [\"a\",\"na\"],\n",
    "                          title='MLPClassifier . SGD solver',\n",
    "                          cmap=None,\n",
    "                          normalize=True)"
   ]
  },
  {
   "cell_type": "markdown",
   "metadata": {},
   "source": [
    "## Arboles de decision"
   ]
  },
  {
   "cell_type": "code",
   "execution_count": 18,
   "metadata": {},
   "outputs": [
    {
     "data": {
      "text/plain": [
       "DecisionTreeClassifier(max_depth=5, min_samples_leaf=4)"
      ]
     },
     "execution_count": 18,
     "metadata": {},
     "output_type": "execute_result"
    }
   ],
   "source": [
    "#modeltree = GridSearchCV(estimator = tree.DecisionTreeClassifier(), param_grid={'max_depth': [2, 5, 10, 15, 20], 'min_samples_leaf': [5, 4, 3, 2, 1]},cv = kf) \n",
    "modeltree = tree.DecisionTreeClassifier( max_depth = 5, min_samples_leaf = 4)\n",
    "modeltree.fit(x_train_pca, y_train)\n",
    "\n",
    "\n"
   ]
  },
  {
   "cell_type": "code",
   "execution_count": 19,
   "metadata": {},
   "outputs": [
    {
     "name": "stdout",
     "output_type": "stream",
     "text": [
      "Accuracy:   0.636\n",
      "      F1:   0.595\n"
     ]
    }
   ],
   "source": [
    "#print(\"La mejor combinación de parámetros probados para el modelo es {} junto a los ya fijados\" .format(modeltree.best_params_))\n",
    "\n",
    "pred_tree = modeltree.predict(x_test_pca)\n",
    "\n",
    "score_tree = accuracy_score(y_test, pred_tree)\n",
    "print(\"Accuracy:   %0.3f\" % score_tree)\n",
    "\n",
    "f1_tree = f1_score(y_test, pred_tree, average='weighted')\n",
    "print(\"      F1:   %0.3f\" % f1_tree)"
   ]
  },
  {
   "cell_type": "code",
   "execution_count": 20,
   "metadata": {},
   "outputs": [
    {
     "data": {
      "image/png": "[encoded data removed]",
      "text/plain": [
       "<Figure size 576x432 with 2 Axes>"
      ]
     },
     "metadata": {},
     "output_type": "display_data"
    }
   ],
   "source": [
    "cm_tree =confusion_matrix (y_test, pred_tree)\n",
    "plot_confusion_matrix(cm_tree,f1_tree,\n",
    "                          [\"a\",\"na\"],\n",
    "                          title='Decision tree',\n",
    "                          cmap=None,\n",
    "                          normalize=True)"
   ]
  },
  {
   "cell_type": "markdown",
   "metadata": {},
   "source": [
    "<a id='sel'></a>\n",
    "## 3.2  bagging\n",
    "\n"
   ]
  },
  {
   "cell_type": "markdown",
   "metadata": {},
   "source": [
    "### logistic"
   ]
  },
  {
   "cell_type": "code",
   "execution_count": 21,
   "metadata": {},
   "outputs": [
    {
     "data": {
      "text/plain": [
       "BaggingClassifier(base_estimator=LogisticRegression(C=0.4, multi_class='ovr',\n",
       "                                                    solver='liblinear'))"
      ]
     },
     "execution_count": 21,
     "metadata": {},
     "output_type": "execute_result"
    }
   ],
   "source": [
    "modelBaggingRL = BaggingClassifier(base_estimator=LogisticRegression( multi_class  = 'ovr', C = 0.4, max_iter = 100, solver = 'liblinear'), n_estimators=10)\n",
    "\n",
    "modelBaggingRL.fit(x_train_pca, y_train)\n",
    "\n"
   ]
  },
  {
   "cell_type": "code",
   "execution_count": 22,
   "metadata": {},
   "outputs": [
    {
     "name": "stdout",
     "output_type": "stream",
     "text": [
      "Accuracy:   0.730\n",
      "      F1:   0.727\n"
     ]
    }
   ],
   "source": [
    "pred_bag_RL = modelBaggingRL.predict(x_test_pca)\n",
    "\n",
    "score_bag_RL = accuracy_score(y_test, pred_bag_RL)\n",
    "print(\"Accuracy:   %0.3f\" % score_bag_RL)\n",
    "\n",
    "f1_bag_RL = f1_score(y_test, pred_bag_RL, average='weighted')\n",
    "print(\"      F1:   %0.3f\" % f1_bag_RL)"
   ]
  },
  {
   "cell_type": "code",
   "execution_count": 23,
   "metadata": {},
   "outputs": [
    {
     "data": {
      "image/png": "[encoded data removed]",
      "text/plain": [
       "<Figure size 576x432 with 2 Axes>"
      ]
     },
     "metadata": {},
     "output_type": "display_data"
    }
   ],
   "source": [
    "cm_bag_RL =confusion_matrix (y_test, pred_bag_RL)\n",
    "plot_confusion_matrix(cm_bag_RL,f1_bag_RL,\n",
    "                          [\"a\",\"na\"],\n",
    "                          title='Bagging. Logistic regression',\n",
    "                          cmap=None,\n",
    "                          normalize=True)"
   ]
  },
  {
   "cell_type": "markdown",
   "metadata": {},
   "source": [
    "### decision tree"
   ]
  },
  {
   "cell_type": "code",
   "execution_count": 24,
   "metadata": {},
   "outputs": [
    {
     "data": {
      "text/plain": [
       "BaggingClassifier(base_estimator=DecisionTreeClassifier(max_depth=5))"
      ]
     },
     "execution_count": 24,
     "metadata": {},
     "output_type": "execute_result"
    }
   ],
   "source": [
    "modelBaggingDT = BaggingClassifier(base_estimator=tree.DecisionTreeClassifier(max_depth = 5, min_samples_leaf = 1,), n_estimators=10)\n",
    "\n",
    "modelBaggingDT.fit(x_train_pca, y_train)\n",
    "\n"
   ]
  },
  {
   "cell_type": "code",
   "execution_count": 25,
   "metadata": {},
   "outputs": [
    {
     "name": "stdout",
     "output_type": "stream",
     "text": [
      "Accuracy:   0.730\n",
      "      F1:   0.727\n"
     ]
    }
   ],
   "source": [
    "pred_bag_DT = modelBaggingRL.predict(x_test_pca)\n",
    "\n",
    "score_bag_DT = accuracy_score(y_test, pred_bag_DT)\n",
    "print(\"Accuracy:   %0.3f\" % score_bag_DT)\n",
    "\n",
    "f1_bag_DT = f1_score(y_test, pred_bag_DT, average='weighted')\n",
    "print(\"      F1:   %0.3f\" % f1_bag_DT)"
   ]
  },
  {
   "cell_type": "code",
   "execution_count": 26,
   "metadata": {},
   "outputs": [
    {
     "data": {
      "image/png": "[encoded data removed]",
      "text/plain": [
       "<Figure size 576x432 with 2 Axes>"
      ]
     },
     "metadata": {},
     "output_type": "display_data"
    }
   ],
   "source": [
    "cm_bag_DT =confusion_matrix (y_test, pred_bag_DT)\n",
    "plot_confusion_matrix(cm_bag_DT,f1_bag_DT,\n",
    "                          [\"a\",\"na\"],\n",
    "                          title='Bagging. Decision tree',\n",
    "                          cmap=None,\n",
    "                          normalize=True)"
   ]
  },
  {
   "cell_type": "markdown",
   "metadata": {},
   "source": [
    "### svm"
   ]
  },
  {
   "cell_type": "code",
   "execution_count": null,
   "metadata": {},
   "outputs": [],
   "source": [
    "\"\"\"\n",
    "modelBaggingsvm = BaggingClassifier(base_estimator=svm.SVC( kernel= 'linear'), n_estimators=10)\n",
    "modelBaggingsvm.fit(x_train_pca, y_train)\"\"\""
   ]
  },
  {
   "cell_type": "code",
   "execution_count": null,
   "metadata": {},
   "outputs": [],
   "source": [
    "\"\"\"pred_bag_SVM = modelBaggingsvm.predict(x_test_pca)\n",
    "\n",
    "score_bag_SVM = accuracy_score(y_test, pred_bag_SVM)\n",
    "print(\"Accuracy:   %0.3f\" % score)\n",
    "\n",
    "f1_bag_SVM = f1_score(y_test, pred_bag_SVM, average='weighted')\n",
    "print(\"      F1:   %0.3f\" % f1)\"\"\""
   ]
  },
  {
   "cell_type": "markdown",
   "metadata": {},
   "source": [
    "<a id='sel'></a>\n",
    "## 3.3  Adaboost\n"
   ]
  },
  {
   "cell_type": "markdown",
   "metadata": {},
   "source": [
    "### regresion "
   ]
  },
  {
   "cell_type": "code",
   "execution_count": 27,
   "metadata": {},
   "outputs": [
    {
     "data": {
      "text/plain": [
       "AdaBoostClassifier(base_estimator=LogisticRegression(C=0.4, multi_class='ovr',\n",
       "                                                     solver='liblinear'),\n",
       "                   n_estimators=100)"
      ]
     },
     "execution_count": 27,
     "metadata": {},
     "output_type": "execute_result"
    }
   ],
   "source": [
    "\n",
    "modelAdaBoostRL = AdaBoostClassifier( base_estimator = LogisticRegression(multi_class  = 'ovr', C = 0.4, max_iter = 100, solver = 'liblinear'), n_estimators=100)\n",
    "\n",
    "modelAdaBoostRL.fit(x_train_pca, y_train)\n",
    "\n",
    "\n"
   ]
  },
  {
   "cell_type": "code",
   "execution_count": 28,
   "metadata": {},
   "outputs": [
    {
     "name": "stdout",
     "output_type": "stream",
     "text": [
      "Accuracy:   0.730\n",
      "      F1:   0.726\n"
     ]
    }
   ],
   "source": [
    "pred_ada_RL = modelAdaBoostRL.predict(x_test_pca)\n",
    "\n",
    "score_ada_RL = accuracy_score(y_test, pred_ada_RL)\n",
    "print(\"Accuracy:   %0.3f\" % score_ada_RL)\n",
    "\n",
    "f1_ada_RL = f1_score(y_test, pred_ada_RL, average='weighted')\n",
    "print(\"      F1:   %0.3f\" % f1_ada_RL)"
   ]
  },
  {
   "cell_type": "code",
   "execution_count": 29,
   "metadata": {},
   "outputs": [
    {
     "data": {
      "image/png": "[encoded data removed]",
      "text/plain": [
       "<Figure size 576x432 with 2 Axes>"
      ]
     },
     "metadata": {},
     "output_type": "display_data"
    }
   ],
   "source": [
    "cm_ada_RL  =confusion_matrix (y_test, pred_ada_RL )\n",
    "plot_confusion_matrix(cm_ada_RL ,f1_ada_RL ,\n",
    "                          [\"a\",\"na\"],\n",
    "                          title='Adaboost. Logical Regression',\n",
    "                          cmap=None,\n",
    "                          normalize=True)"
   ]
  },
  {
   "cell_type": "markdown",
   "metadata": {},
   "source": [
    "### Decision tree"
   ]
  },
  {
   "cell_type": "code",
   "execution_count": 30,
   "metadata": {},
   "outputs": [
    {
     "data": {
      "text/plain": [
       "AdaBoostClassifier(base_estimator=DecisionTreeClassifier(max_depth=5,\n",
       "                                                         min_samples_leaf=4),\n",
       "                   n_estimators=100)"
      ]
     },
     "execution_count": 30,
     "metadata": {},
     "output_type": "execute_result"
    }
   ],
   "source": [
    "modelAdaBoostAD = AdaBoostClassifier( base_estimator = tree.DecisionTreeClassifier(max_depth = 5, min_samples_leaf = 4,), n_estimators=100)\n",
    "\n",
    "modelAdaBoostAD.fit(x_train_pca, y_train)\n"
   ]
  },
  {
   "cell_type": "code",
   "execution_count": 31,
   "metadata": {},
   "outputs": [
    {
     "name": "stdout",
     "output_type": "stream",
     "text": [
      "Accuracy:   0.641\n",
      "      F1:   0.632\n"
     ]
    }
   ],
   "source": [
    "pred_ada_AD = modelAdaBoostAD.predict(x_test_pca)\n",
    "\n",
    "score_ada_AD = accuracy_score(y_test, pred_ada_AD)\n",
    "print(\"Accuracy:   %0.3f\" % score_ada_AD)\n",
    "\n",
    "f1_ada_AD = f1_score(y_test, pred_ada_AD, average='weighted')\n",
    "print(\"      F1:   %0.3f\" % f1_ada_AD)"
   ]
  },
  {
   "cell_type": "code",
   "execution_count": 32,
   "metadata": {},
   "outputs": [
    {
     "data": {
      "image/png": "[encoded data removed]",
      "text/plain": [
       "<Figure size 576x432 with 2 Axes>"
      ]
     },
     "metadata": {},
     "output_type": "display_data"
    }
   ],
   "source": [
    "cm_ada_AD =confusion_matrix (y_test, pred_ada_AD)\n",
    "plot_confusion_matrix(cm_ada_AD,f1_ada_AD,\n",
    "                          [\"a\",\"na\"],\n",
    "                          title='Adaboost. Decision tree',\n",
    "                          cmap=None,\n",
    "                          normalize=True)"
   ]
  },
  {
   "cell_type": "markdown",
   "metadata": {},
   "source": [
    "## Red neuronal"
   ]
  },
  {
   "cell_type": "code",
   "execution_count": 37,
   "metadata": {},
   "outputs": [
    {
     "name": "stdout",
     "output_type": "stream",
     "text": [
      "Epoch 1/20\n",
      "WARNING:tensorflow:Model was constructed with shape (None, 12144, 1500) for input KerasTensor(type_spec=TensorSpec(shape=(None, 12144, 1500), dtype=tf.float32, name='dense_4_input'), name='dense_4_input', description=\"created by layer 'dense_4_input'\"), but it was called on an input with incompatible shape (None, 1500).\n",
      "WARNING:tensorflow:Model was constructed with shape (None, 12144, 1500) for input KerasTensor(type_spec=TensorSpec(shape=(None, 12144, 1500), dtype=tf.float32, name='dense_4_input'), name='dense_4_input', description=\"created by layer 'dense_4_input'\"), but it was called on an input with incompatible shape (None, 1500).\n",
      "304/304 [==============================] - ETA: 0s - loss: 0.6183 - sparse_categorical_accuracy: 0.6423WARNING:tensorflow:Model was constructed with shape (None, 12144, 1500) for input KerasTensor(type_spec=TensorSpec(shape=(None, 12144, 1500), dtype=tf.float32, name='dense_4_input'), name='dense_4_input', description=\"created by layer 'dense_4_input'\"), but it was called on an input with incompatible shape (None, 1500).\n",
      "304/304 [==============================] - 11s 31ms/step - loss: 0.6183 - sparse_categorical_accuracy: 0.6423 - val_loss: 0.5194 - val_sparse_categorical_accuracy: 0.6352\n",
      "Epoch 2/20\n",
      "304/304 [==============================] - 7s 23ms/step - loss: 0.4075 - sparse_categorical_accuracy: 0.6423 - val_loss: 0.5528 - val_sparse_categorical_accuracy: 0.6352\n",
      "Epoch 3/20\n",
      "304/304 [==============================] - 7s 25ms/step - loss: 0.2625 - sparse_categorical_accuracy: 0.6423 - val_loss: 0.8101 - val_sparse_categorical_accuracy: 0.6352\n",
      "Epoch 4/20\n",
      "304/304 [==============================] - 8s 27ms/step - loss: 0.1715 - sparse_categorical_accuracy: 0.6423 - val_loss: 0.9239 - val_sparse_categorical_accuracy: 0.6352\n",
      "Epoch 5/20\n",
      "304/304 [==============================] - 8s 26ms/step - loss: 0.1181 - sparse_categorical_accuracy: 0.6423 - val_loss: 1.5769 - val_sparse_categorical_accuracy: 0.6352\n",
      "Epoch 6/20\n",
      "304/304 [==============================] - 8s 25ms/step - loss: 0.0989 - sparse_categorical_accuracy: 0.6423 - val_loss: 1.8980 - val_sparse_categorical_accuracy: 0.6352\n",
      "Epoch 7/20\n",
      "304/304 [==============================] - 8s 25ms/step - loss: 0.0791 - sparse_categorical_accuracy: 0.6423 - val_loss: 1.5396 - val_sparse_categorical_accuracy: 0.6352\n",
      "Epoch 8/20\n",
      "304/304 [==============================] - 8s 26ms/step - loss: 0.0700 - sparse_categorical_accuracy: 0.6423 - val_loss: 2.2242 - val_sparse_categorical_accuracy: 0.6352\n",
      "Epoch 9/20\n",
      "304/304 [==============================] - 8s 25ms/step - loss: 0.0601 - sparse_categorical_accuracy: 0.6423 - val_loss: 3.8541 - val_sparse_categorical_accuracy: 0.6352\n",
      "Epoch 10/20\n",
      "304/304 [==============================] - 8s 25ms/step - loss: 0.0666 - sparse_categorical_accuracy: 0.6423 - val_loss: 1.5705 - val_sparse_categorical_accuracy: 0.6352\n",
      "Epoch 11/20\n",
      "304/304 [==============================] - 7s 24ms/step - loss: 0.0479 - sparse_categorical_accuracy: 0.6423 - val_loss: 1.5253 - val_sparse_categorical_accuracy: 0.6352\n",
      "Epoch 12/20\n",
      "304/304 [==============================] - 8s 25ms/step - loss: 0.0571 - sparse_categorical_accuracy: 0.6423 - val_loss: 2.8248 - val_sparse_categorical_accuracy: 0.6352\n",
      "Epoch 13/20\n",
      "304/304 [==============================] - 8s 25ms/step - loss: 0.0470 - sparse_categorical_accuracy: 0.6423 - val_loss: 2.2601 - val_sparse_categorical_accuracy: 0.6352\n",
      "Epoch 14/20\n",
      "304/304 [==============================] - 7s 24ms/step - loss: 0.0584 - sparse_categorical_accuracy: 0.6423 - val_loss: 3.9420 - val_sparse_categorical_accuracy: 0.6352\n",
      "Epoch 15/20\n",
      "304/304 [==============================] - 7s 24ms/step - loss: 0.0501 - sparse_categorical_accuracy: 0.6423 - val_loss: 4.9778 - val_sparse_categorical_accuracy: 0.6352\n",
      "Epoch 16/20\n",
      "304/304 [==============================] - 7s 24ms/step - loss: 0.0474 - sparse_categorical_accuracy: 0.6423 - val_loss: 2.5971 - val_sparse_categorical_accuracy: 0.6352\n",
      "Epoch 17/20\n",
      "304/304 [==============================] - 8s 26ms/step - loss: 0.0411 - sparse_categorical_accuracy: 0.6423 - val_loss: 2.0348 - val_sparse_categorical_accuracy: 0.6352\n",
      "Epoch 18/20\n",
      "304/304 [==============================] - 8s 25ms/step - loss: 0.0372 - sparse_categorical_accuracy: 0.6423 - val_loss: 3.6238 - val_sparse_categorical_accuracy: 0.6352\n",
      "Epoch 19/20\n",
      "304/304 [==============================] - 8s 27ms/step - loss: 0.0377 - sparse_categorical_accuracy: 0.6423 - val_loss: 2.5105 - val_sparse_categorical_accuracy: 0.6352\n",
      "Epoch 20/20\n",
      "304/304 [==============================] - 8s 26ms/step - loss: 0.0499 - sparse_categorical_accuracy: 0.6423 - val_loss: 2.9804 - val_sparse_categorical_accuracy: 0.6352\n"
     ]
    }
   ],
   "source": [
    "model = keras.Sequential([\n",
    "    \n",
    "    # hidden layers\n",
    "    layers.Dense(1500, activation='relu',input_shape=(12144,1500)),\n",
    "    \n",
    "    layers.Dense(500, activation='relu',input_shape=(12144,1500)),\n",
    "    \n",
    "     layers.Dense(100, activation='relu',input_shape=(12144,1500)),\n",
    "    # output layer\n",
    "    layers.Dense(1, activation='sigmoid')\n",
    "])\n",
    "\n",
    "model.compile(optimizer='RMSprop',\n",
    "              loss='binary_crossentropy',\n",
    "              metrics=['sparse_categorical_accuracy'])\n",
    "\n",
    "\n",
    "    \n",
    "history = model.fit(x_train_pca, y_train_RN,\n",
    "                            validation_split = 0.2,batch_size = 32,\n",
    "                            epochs=20)\n",
    "model.save('model_redNeuronal.h5')\n",
    "    \n"
   ]
  },
  {
   "cell_type": "code",
   "execution_count": 38,
   "metadata": {},
   "outputs": [
    {
     "data": {
      "image/png": "[encoded data removed]",
      "text/plain": [
       "<Figure size 504x288 with 1 Axes>"
      ]
     },
     "metadata": {},
     "output_type": "display_data"
    }
   ],
   "source": [
    "pd.DataFrame(history.history).plot(figsize=(7,4))\n",
    "plt.grid(True)\n",
    "plt.xlabel('epoch', fontsize=14)\n",
    "plt.show()"
   ]
  },
  {
   "cell_type": "code",
   "execution_count": 39,
   "metadata": {},
   "outputs": [
    {
     "name": "stdout",
     "output_type": "stream",
     "text": [
      "95/95 - 0s - loss: 3.1798 - sparse_categorical_accuracy: 0.6380\n",
      "Accuracy on test dataset: 0.638010561466217\n"
     ]
    }
   ],
   "source": [
    "test_loss, test_accuracy = model.evaluate(x_test_pca, y_test_RN, verbose=2)\n",
    "print('Accuracy on test dataset:', test_accuracy)"
   ]
  },
  {
   "cell_type": "code",
   "execution_count": 40,
   "metadata": {},
   "outputs": [
    {
     "name": "stdout",
     "output_type": "stream",
     "text": [
      "WARNING:tensorflow:Model was constructed with shape (None, 12144, 1500) for input KerasTensor(type_spec=TensorSpec(shape=(None, 12144, 1500), dtype=tf.float32, name='dense_4_input'), name='dense_4_input', description=\"created by layer 'dense_4_input'\"), but it was called on an input with incompatible shape (None, 1500).\n"
     ]
    },
    {
     "data": {
      "text/plain": [
       "[1,\n",
       " 0,\n",
       " 1,\n",
       " 1,\n",
       " 0,\n",
       " 0,\n",
       " 0,\n",
       " 1,\n",
       " 0,\n",
       " 1,\n",
       " 0,\n",
       " 1,\n",
       " 0,\n",
       " 0,\n",
       " 0,\n",
       " 0,\n",
       " 0,\n",
       " 0,\n",
       " 0,\n",
       " 0,\n",
       " 0,\n",
       " 1,\n",
       " 0,\n",
       " 0,\n",
       " 0,\n",
       " 0,\n",
       " 0,\n",
       " 1,\n",
       " 0,\n",
       " 0,\n",
       " 0,\n",
       " 0,\n",
       " 0,\n",
       " 1,\n",
       " 0,\n",
       " 0,\n",
       " 1,\n",
       " 1,\n",
       " 0,\n",
       " 0,\n",
       " 1,\n",
       " 1,\n",
       " 0,\n",
       " 0,\n",
       " 1,\n",
       " 0,\n",
       " 1,\n",
       " 0,\n",
       " 0,\n",
       " 0,\n",
       " 1,\n",
       " 1,\n",
       " 0,\n",
       " 0,\n",
       " 0,\n",
       " 0,\n",
       " 0,\n",
       " 0,\n",
       " 0,\n",
       " 1,\n",
       " 1,\n",
       " 0,\n",
       " 1,\n",
       " 0,\n",
       " 0,\n",
       " 1,\n",
       " 0,\n",
       " 0,\n",
       " 1,\n",
       " 0,\n",
       " 0,\n",
       " 0,\n",
       " 0,\n",
       " 1,\n",
       " 0,\n",
       " 0,\n",
       " 1,\n",
       " 0,\n",
       " 0,\n",
       " 1,\n",
       " 0,\n",
       " 0,\n",
       " 0,\n",
       " 0,\n",
       " 0,\n",
       " 0,\n",
       " 0,\n",
       " 1,\n",
       " 1,\n",
       " 0,\n",
       " 0,\n",
       " 0,\n",
       " 0,\n",
       " 1,\n",
       " 0,\n",
       " 0,\n",
       " 1,\n",
       " 0,\n",
       " 0,\n",
       " 0,\n",
       " 1,\n",
       " 0,\n",
       " 0,\n",
       " 1,\n",
       " 0,\n",
       " 0,\n",
       " 0,\n",
       " 1,\n",
       " 0,\n",
       " 0,\n",
       " 1,\n",
       " 0,\n",
       " 0,\n",
       " 0,\n",
       " 0,\n",
       " 0,\n",
       " 1,\n",
       " 0,\n",
       " 1,\n",
       " 1,\n",
       " 0,\n",
       " 0,\n",
       " 0,\n",
       " 1,\n",
       " 0,\n",
       " 0,\n",
       " 1,\n",
       " 0,\n",
       " 0,\n",
       " 0,\n",
       " 0,\n",
       " 0,\n",
       " 0,\n",
       " 1,\n",
       " 1,\n",
       " 0,\n",
       " 0,\n",
       " 0,\n",
       " 0,\n",
       " 0,\n",
       " 0,\n",
       " 1,\n",
       " 1,\n",
       " 0,\n",
       " 0,\n",
       " 0,\n",
       " 0,\n",
       " 1,\n",
       " 1,\n",
       " 0,\n",
       " 1,\n",
       " 0,\n",
       " 0,\n",
       " 0,\n",
       " 0,\n",
       " 0,\n",
       " 0,\n",
       " 0,\n",
       " 0,\n",
       " 0,\n",
       " 0,\n",
       " 0,\n",
       " 0,\n",
       " 1,\n",
       " 0,\n",
       " 0,\n",
       " 0,\n",
       " 0,\n",
       " 0,\n",
       " 1,\n",
       " 0,\n",
       " 0,\n",
       " 1,\n",
       " 0,\n",
       " 0,\n",
       " 0,\n",
       " 1,\n",
       " 1,\n",
       " 0,\n",
       " 1,\n",
       " 0,\n",
       " 1,\n",
       " 1,\n",
       " 1,\n",
       " 0,\n",
       " 0,\n",
       " 0,\n",
       " 1,\n",
       " 0,\n",
       " 0,\n",
       " 1,\n",
       " 0,\n",
       " 0,\n",
       " 1,\n",
       " 1,\n",
       " 0,\n",
       " 0,\n",
       " 0,\n",
       " 1,\n",
       " 0,\n",
       " 0,\n",
       " 0,\n",
       " 0,\n",
       " 0,\n",
       " 0,\n",
       " 0,\n",
       " 1,\n",
       " 0,\n",
       " 0,\n",
       " 0,\n",
       " 0,\n",
       " 0,\n",
       " 0,\n",
       " 0,\n",
       " 1,\n",
       " 1,\n",
       " 0,\n",
       " 0,\n",
       " 1,\n",
       " 1,\n",
       " 1,\n",
       " 1,\n",
       " 0,\n",
       " 0,\n",
       " 0,\n",
       " 0,\n",
       " 1,\n",
       " 0,\n",
       " 0,\n",
       " 1,\n",
       " 1,\n",
       " 0,\n",
       " 0,\n",
       " 0,\n",
       " 0,\n",
       " 1,\n",
       " 1,\n",
       " 0,\n",
       " 0,\n",
       " 0,\n",
       " 0,\n",
       " 0,\n",
       " 0,\n",
       " 1,\n",
       " 0,\n",
       " 0,\n",
       " 1,\n",
       " 0,\n",
       " 1,\n",
       " 0,\n",
       " 0,\n",
       " 0,\n",
       " 0,\n",
       " 0,\n",
       " 1,\n",
       " 1,\n",
       " 1,\n",
       " 1,\n",
       " 0,\n",
       " 1,\n",
       " 0,\n",
       " 0,\n",
       " 0,\n",
       " 0,\n",
       " 0,\n",
       " 0,\n",
       " 1,\n",
       " 0,\n",
       " 0,\n",
       " 0,\n",
       " 0,\n",
       " 0,\n",
       " 0,\n",
       " 0,\n",
       " 1,\n",
       " 0,\n",
       " 1,\n",
       " 0,\n",
       " 0,\n",
       " 0,\n",
       " 1,\n",
       " 0,\n",
       " 0,\n",
       " 0,\n",
       " 0,\n",
       " 0,\n",
       " 0,\n",
       " 1,\n",
       " 0,\n",
       " 0,\n",
       " 0,\n",
       " 0,\n",
       " 1,\n",
       " 1,\n",
       " 0,\n",
       " 0,\n",
       " 0,\n",
       " 0,\n",
       " 0,\n",
       " 1,\n",
       " 0,\n",
       " 0,\n",
       " 0,\n",
       " 0,\n",
       " 0,\n",
       " 0,\n",
       " 1,\n",
       " 0,\n",
       " 0,\n",
       " 0,\n",
       " 0,\n",
       " 0,\n",
       " 0,\n",
       " 1,\n",
       " 0,\n",
       " 1,\n",
       " 0,\n",
       " 0,\n",
       " 1,\n",
       " 0,\n",
       " 1,\n",
       " 0,\n",
       " 1,\n",
       " 1,\n",
       " 1,\n",
       " 0,\n",
       " 1,\n",
       " 1,\n",
       " 0,\n",
       " 0,\n",
       " 1,\n",
       " 1,\n",
       " 1,\n",
       " 1,\n",
       " 1,\n",
       " 0,\n",
       " 0,\n",
       " 0,\n",
       " 0,\n",
       " 0,\n",
       " 0,\n",
       " 0,\n",
       " 1,\n",
       " 1,\n",
       " 0,\n",
       " 0,\n",
       " 0,\n",
       " 0,\n",
       " 0,\n",
       " 1,\n",
       " 0,\n",
       " 0,\n",
       " 0,\n",
       " 0,\n",
       " 0,\n",
       " 0,\n",
       " 0,\n",
       " 1,\n",
       " 0,\n",
       " 0,\n",
       " 0,\n",
       " 0,\n",
       " 1,\n",
       " 0,\n",
       " 1,\n",
       " 0,\n",
       " 0,\n",
       " 1,\n",
       " 0,\n",
       " 0,\n",
       " 0,\n",
       " 0,\n",
       " 1,\n",
       " 0,\n",
       " 1,\n",
       " 0,\n",
       " 0,\n",
       " 1,\n",
       " 0,\n",
       " 1,\n",
       " 0,\n",
       " 0,\n",
       " 0,\n",
       " 0,\n",
       " 0,\n",
       " 0,\n",
       " 0,\n",
       " 1,\n",
       " 0,\n",
       " 1,\n",
       " 1,\n",
       " 0,\n",
       " 0,\n",
       " 1,\n",
       " 1,\n",
       " 1,\n",
       " 0,\n",
       " 0,\n",
       " 0,\n",
       " 0,\n",
       " 0,\n",
       " 0,\n",
       " 0,\n",
       " 0,\n",
       " 1,\n",
       " 0,\n",
       " 0,\n",
       " 0,\n",
       " 0,\n",
       " 1,\n",
       " 0,\n",
       " 1,\n",
       " 1,\n",
       " 1,\n",
       " 0,\n",
       " 0,\n",
       " 0,\n",
       " 0,\n",
       " 0,\n",
       " 0,\n",
       " 0,\n",
       " 0,\n",
       " 0,\n",
       " 1,\n",
       " 1,\n",
       " 0,\n",
       " 0,\n",
       " 0,\n",
       " 1,\n",
       " 0,\n",
       " 0,\n",
       " 0,\n",
       " 0,\n",
       " 0,\n",
       " 1,\n",
       " 1,\n",
       " 0,\n",
       " 0,\n",
       " 0,\n",
       " 0,\n",
       " 0,\n",
       " 0,\n",
       " 1,\n",
       " 0,\n",
       " 1,\n",
       " 0,\n",
       " 1,\n",
       " 0,\n",
       " 0,\n",
       " 0,\n",
       " 0,\n",
       " 0,\n",
       " 0,\n",
       " 1,\n",
       " 1,\n",
       " 0,\n",
       " 0,\n",
       " 0,\n",
       " 0,\n",
       " 1,\n",
       " 1,\n",
       " 1,\n",
       " 0,\n",
       " 0,\n",
       " 0,\n",
       " 1,\n",
       " 1,\n",
       " 0,\n",
       " 0,\n",
       " 0,\n",
       " 0,\n",
       " 0,\n",
       " 1,\n",
       " 0,\n",
       " 0,\n",
       " 0,\n",
       " 0,\n",
       " 1,\n",
       " 0,\n",
       " 0,\n",
       " 1,\n",
       " 0,\n",
       " 0,\n",
       " 0,\n",
       " 0,\n",
       " 0,\n",
       " 0,\n",
       " 0,\n",
       " 0,\n",
       " 1,\n",
       " 0,\n",
       " 0,\n",
       " 1,\n",
       " 1,\n",
       " 0,\n",
       " 1,\n",
       " 1,\n",
       " 0,\n",
       " 0,\n",
       " 1,\n",
       " 1,\n",
       " 1,\n",
       " 1,\n",
       " 1,\n",
       " 0,\n",
       " 0,\n",
       " 0,\n",
       " 0,\n",
       " 0,\n",
       " 1,\n",
       " 0,\n",
       " 0,\n",
       " 0,\n",
       " 0,\n",
       " 0,\n",
       " 0,\n",
       " 0,\n",
       " 1,\n",
       " 1,\n",
       " 0,\n",
       " 0,\n",
       " 0,\n",
       " 1,\n",
       " 1,\n",
       " 1,\n",
       " 0,\n",
       " 1,\n",
       " 1,\n",
       " 0,\n",
       " 0,\n",
       " 1,\n",
       " 0,\n",
       " 0,\n",
       " 0,\n",
       " 0,\n",
       " 1,\n",
       " 1,\n",
       " 0,\n",
       " 1,\n",
       " 0,\n",
       " 1,\n",
       " 0,\n",
       " 0,\n",
       " 1,\n",
       " 0,\n",
       " 0,\n",
       " 1,\n",
       " 0,\n",
       " 1,\n",
       " 1,\n",
       " 0,\n",
       " 0,\n",
       " 0,\n",
       " 1,\n",
       " 0,\n",
       " 0,\n",
       " 0,\n",
       " 1,\n",
       " 0,\n",
       " 1,\n",
       " 0,\n",
       " 1,\n",
       " 0,\n",
       " 1,\n",
       " 1,\n",
       " 1,\n",
       " 1,\n",
       " 0,\n",
       " 0,\n",
       " 0,\n",
       " 0,\n",
       " 1,\n",
       " 1,\n",
       " 0,\n",
       " 1,\n",
       " 0,\n",
       " 1,\n",
       " 1,\n",
       " 0,\n",
       " 0,\n",
       " 0,\n",
       " 0,\n",
       " 0,\n",
       " 1,\n",
       " 1,\n",
       " 1,\n",
       " 0,\n",
       " 0,\n",
       " 1,\n",
       " 1,\n",
       " 0,\n",
       " 1,\n",
       " 0,\n",
       " 1,\n",
       " 0,\n",
       " 0,\n",
       " 0,\n",
       " 1,\n",
       " 1,\n",
       " 0,\n",
       " 0,\n",
       " 1,\n",
       " 1,\n",
       " 0,\n",
       " 1,\n",
       " 1,\n",
       " 0,\n",
       " 0,\n",
       " 0,\n",
       " 0,\n",
       " 0,\n",
       " 1,\n",
       " 0,\n",
       " 1,\n",
       " 1,\n",
       " 0,\n",
       " 1,\n",
       " 0,\n",
       " 0,\n",
       " 0,\n",
       " 0,\n",
       " 0,\n",
       " 0,\n",
       " 0,\n",
       " 0,\n",
       " 0,\n",
       " 0,\n",
       " 0,\n",
       " 0,\n",
       " 0,\n",
       " 1,\n",
       " 0,\n",
       " 0,\n",
       " 0,\n",
       " 1,\n",
       " 0,\n",
       " 1,\n",
       " 1,\n",
       " 0,\n",
       " 0,\n",
       " 0,\n",
       " 1,\n",
       " 0,\n",
       " 0,\n",
       " 1,\n",
       " 1,\n",
       " 0,\n",
       " 0,\n",
       " 1,\n",
       " 0,\n",
       " 0,\n",
       " 1,\n",
       " 1,\n",
       " 0,\n",
       " 0,\n",
       " 0,\n",
       " 1,\n",
       " 0,\n",
       " 0,\n",
       " 0,\n",
       " 0,\n",
       " 0,\n",
       " 0,\n",
       " 0,\n",
       " 0,\n",
       " 1,\n",
       " 0,\n",
       " 1,\n",
       " 0,\n",
       " 0,\n",
       " 0,\n",
       " 0,\n",
       " 0,\n",
       " 1,\n",
       " 0,\n",
       " 1,\n",
       " 0,\n",
       " 1,\n",
       " 1,\n",
       " 1,\n",
       " 0,\n",
       " 1,\n",
       " 0,\n",
       " 0,\n",
       " 0,\n",
       " 0,\n",
       " 0,\n",
       " 0,\n",
       " 1,\n",
       " 0,\n",
       " 1,\n",
       " 0,\n",
       " 1,\n",
       " 0,\n",
       " 1,\n",
       " 0,\n",
       " 1,\n",
       " 0,\n",
       " 1,\n",
       " 1,\n",
       " 1,\n",
       " 0,\n",
       " 0,\n",
       " 0,\n",
       " 0,\n",
       " 0,\n",
       " 1,\n",
       " 0,\n",
       " 1,\n",
       " 1,\n",
       " 1,\n",
       " 0,\n",
       " 0,\n",
       " 0,\n",
       " 1,\n",
       " 0,\n",
       " 0,\n",
       " 1,\n",
       " 0,\n",
       " 1,\n",
       " 0,\n",
       " 0,\n",
       " 0,\n",
       " 0,\n",
       " 1,\n",
       " 1,\n",
       " 1,\n",
       " 1,\n",
       " 0,\n",
       " 1,\n",
       " 1,\n",
       " 1,\n",
       " 0,\n",
       " 0,\n",
       " 0,\n",
       " 0,\n",
       " 0,\n",
       " 0,\n",
       " 0,\n",
       " 0,\n",
       " 1,\n",
       " 0,\n",
       " 1,\n",
       " 1,\n",
       " 1,\n",
       " 1,\n",
       " 0,\n",
       " 1,\n",
       " 0,\n",
       " 0,\n",
       " 1,\n",
       " 0,\n",
       " 0,\n",
       " 0,\n",
       " 1,\n",
       " 0,\n",
       " 0,\n",
       " 0,\n",
       " 0,\n",
       " 0,\n",
       " 1,\n",
       " 1,\n",
       " 0,\n",
       " 1,\n",
       " 1,\n",
       " 1,\n",
       " 0,\n",
       " 0,\n",
       " 0,\n",
       " 1,\n",
       " 0,\n",
       " 0,\n",
       " 0,\n",
       " 0,\n",
       " 1,\n",
       " 1,\n",
       " 0,\n",
       " 0,\n",
       " 0,\n",
       " 1,\n",
       " 1,\n",
       " 0,\n",
       " 1,\n",
       " 1,\n",
       " 0,\n",
       " 0,\n",
       " 0,\n",
       " 1,\n",
       " 0,\n",
       " 0,\n",
       " 0,\n",
       " 0,\n",
       " 1,\n",
       " 1,\n",
       " 0,\n",
       " 0,\n",
       " 1,\n",
       " 1,\n",
       " 0,\n",
       " 0,\n",
       " 1,\n",
       " 0,\n",
       " 0,\n",
       " 0,\n",
       " 0,\n",
       " 0,\n",
       " 0,\n",
       " 0,\n",
       " 1,\n",
       " 0,\n",
       " 0,\n",
       " 1,\n",
       " 1,\n",
       " 0,\n",
       " 0,\n",
       " 0,\n",
       " 0,\n",
       " 0,\n",
       " 0,\n",
       " 1,\n",
       " 1,\n",
       " 0,\n",
       " 0,\n",
       " 0,\n",
       " 0,\n",
       " 0,\n",
       " 0,\n",
       " 0,\n",
       " 0,\n",
       " 0,\n",
       " 0,\n",
       " 0,\n",
       " 0,\n",
       " 0,\n",
       " 1,\n",
       " 0,\n",
       " 0,\n",
       " 1,\n",
       " 0,\n",
       " 0,\n",
       " 1,\n",
       " 1,\n",
       " 0,\n",
       " 0,\n",
       " 0,\n",
       " 1,\n",
       " 1,\n",
       " 0,\n",
       " 0,\n",
       " 0,\n",
       " 1,\n",
       " 1,\n",
       " 0,\n",
       " 0,\n",
       " 0,\n",
       " 1,\n",
       " 1,\n",
       " 0,\n",
       " 0,\n",
       " 1,\n",
       " 0,\n",
       " 0,\n",
       " 1,\n",
       " 0,\n",
       " 0,\n",
       " 0,\n",
       " 0,\n",
       " 0,\n",
       " 1,\n",
       " 0,\n",
       " 1,\n",
       " 0,\n",
       " 1,\n",
       " 0,\n",
       " 0,\n",
       " 0,\n",
       " 1,\n",
       " 0,\n",
       " 1,\n",
       " 0,\n",
       " 0,\n",
       " 1,\n",
       " 0,\n",
       " 1,\n",
       " 0,\n",
       " 1,\n",
       " 0,\n",
       " 0,\n",
       " 0,\n",
       " 0,\n",
       " 0,\n",
       " 0,\n",
       " 0,\n",
       " 0,\n",
       " 0,\n",
       " 1,\n",
       " 1,\n",
       " 0,\n",
       " 0,\n",
       " 0,\n",
       " 0,\n",
       " 0,\n",
       " 0,\n",
       " 0,\n",
       " 0,\n",
       " 1,\n",
       " 0,\n",
       " 0,\n",
       " 0,\n",
       " 0,\n",
       " 0,\n",
       " 0,\n",
       " 1,\n",
       " 1,\n",
       " 0,\n",
       " 1,\n",
       " 0,\n",
       " 0,\n",
       " 0,\n",
       " 0,\n",
       " 0,\n",
       " 1,\n",
       " 0,\n",
       " 1,\n",
       " 0,\n",
       " 1,\n",
       " 0,\n",
       " 0,\n",
       " 0,\n",
       " 1,\n",
       " 1,\n",
       " 1,\n",
       " 1,\n",
       " 1,\n",
       " 0,\n",
       " 0,\n",
       " 1,\n",
       " 1,\n",
       " 1,\n",
       " 0,\n",
       " 0,\n",
       " 0,\n",
       " 0,\n",
       " 0,\n",
       " 0,\n",
       " 0,\n",
       " 0,\n",
       " 1,\n",
       " 0,\n",
       " 0,\n",
       " 0,\n",
       " 1,\n",
       " 1,\n",
       " 0,\n",
       " 0,\n",
       " 1,\n",
       " 0,\n",
       " 0,\n",
       " 0,\n",
       " 0,\n",
       " 1,\n",
       " 0,\n",
       " 1,\n",
       " 0,\n",
       " 0,\n",
       " 0,\n",
       " 1,\n",
       " 1,\n",
       " 0,\n",
       " 1,\n",
       " 1,\n",
       " 1,\n",
       " 1,\n",
       " 0,\n",
       " 0,\n",
       " 0,\n",
       " 1,\n",
       " 0,\n",
       " 1,\n",
       " 1,\n",
       " 0,\n",
       " 1,\n",
       " 0,\n",
       " 0,\n",
       " 1,\n",
       " 0,\n",
       " 1,\n",
       " 1,\n",
       " 0,\n",
       " 1,\n",
       " 0,\n",
       " 1,\n",
       " 0,\n",
       " 1,\n",
       " 1,\n",
       " 0,\n",
       " 0,\n",
       " 0,\n",
       " 0,\n",
       " 0,\n",
       " ...]"
      ]
     },
     "execution_count": 40,
     "metadata": {},
     "output_type": "execute_result"
    }
   ],
   "source": [
    "pred_RN = model.predict(x_test_pca)\n",
    "preds = list(map(lambda x: 0 if x<0.5 else 1,pred_RN))\n",
    "preds"
   ]
  },
  {
   "cell_type": "code",
   "execution_count": 41,
   "metadata": {},
   "outputs": [
    {
     "data": {
      "image/png": "[encoded data removed]",
      "text/plain": [
       "<Figure size 576x432 with 2 Axes>"
      ]
     },
     "metadata": {},
     "output_type": "display_data"
    }
   ],
   "source": [
    "pred_RN = model.predict(x_test_pca)\n",
    "indexes = tf.argmax(pred_RN, axis=1)\n",
    "cm_ada_AD =confusion_matrix (y_test_RN, preds)\n",
    "plot_confusion_matrix(cm_ada_AD,None,\n",
    "                          [\"a\",\"na\"],\n",
    "                          title='Basic neural network',\n",
    "                          cmap=None,\n",
    "                          normalize=True)"
   ]
  },
  {
   "cell_type": "code",
   "execution_count": null,
   "metadata": {},
   "outputs": [],
   "source": [
    "output=model.predict(x_test_pca)\n",
    "indexes = np.argmax(output,axis=1)\n"
   ]
  },
  {
   "cell_type": "code",
   "execution_count": null,
   "metadata": {},
   "outputs": [],
   "source": [
    "indexes.eval()"
   ]
  },
  {
   "cell_type": "code",
   "execution_count": null,
   "metadata": {},
   "outputs": [],
   "source": [
    "\n",
    "\n",
    "model = keras.Sequential()\n",
    "model.add(Conv2D(32, kernel_size=(3,3), activation='relu', input_shape=input_shape))\n",
    "model.add(MaxPooling2D(pool_size=(2, 2)))\n",
    "model.add(Dropout(0.25))\n",
    "model.add(Flatten())\n",
    "model.add(Dense(64, activation='relu'))\n",
    "model.add(Dropout(0.5))\n",
    "model.add(Dense(1, activation='softmax'))\n",
    "\n",
    "model.compile(optimizer='RMSprop',\n",
    "              loss='binary_crossentropy',\n",
    "              metrics=['sparse_categorical_accuracy'])\n",
    "\n",
    "\n",
    "    \n",
    "history = model.fit(x_train_pca, y_train_RN,\n",
    "                            validation_split = 0.2,batch_size = 32,\n",
    "                            epochs=20)\n",
    "\n",
    "    \n",
    "\n"
   ]
  },
  {
   "cell_type": "markdown",
   "metadata": {},
   "source": [
    "<a id='sel'></a>\n",
    "## 4  ANEXO"
   ]
  },
  {
   "cell_type": "markdown",
   "metadata": {},
   "source": [
    "### 4.1 PCA"
   ]
  },
  {
   "cell_type": "code",
   "execution_count": null,
   "metadata": {},
   "outputs": [],
   "source": [
    "# Calculamos la matriz de covarianza\n",
    "print('NumPy covariance matrix: \\n%s' %np.cov(x_std.T))\n",
    "#Calculamos los autovalores y autovectores de la matriz y los mostramos\n",
    "\n",
    "cov_mat = np.cov(x_std.T)\n",
    "\n",
    "eig_vals, eig_vecs = np.linalg.eig(cov_mat)\n",
    "\n",
    "print('Eigenvectors \\n%s' %eig_vecs)\n",
    "print('\\nEigenvalues \\n%s' %eig_vals)\n",
    "#  Hacemos una lista de parejas (autovector, autovalor) \n",
    "eig_pairs = [(np.abs(eig_vals[i]), eig_vecs[:,i]) for i in range(len(eig_vals))]\n",
    "\n",
    "# Ordenamos estas parejas den orden descendiente con la función sort\n",
    "eig_pairs.sort(key=lambda x: x[0], reverse=True)\n",
    "\n",
    "# Visualizamos la lista de autovalores en orden desdenciente\n",
    "print('Autovalores en orden descendiente:')\n",
    "for i in eig_pairs:\n",
    "    print(i[0])\n",
    "    \n",
    "# A partir de los autovalores, calculamos la varianza explicada\n",
    "tot = sum(eig_vals)\n",
    "var_exp = [(i / tot)*100 for i in sorted(eig_vals, reverse=True)]\n",
    "cum_var_exp = np.cumsum(var_exp)\n",
    "\n",
    "cum_var_exp = cum_var_exp[0:50]\n",
    "var_exp= var_exp[0:50]\n",
    "\n",
    "# Representamos en un diagrama de barras la varianza explicada por cada autovalor, y la acumulada\n",
    "with plt.style.context('seaborn-pastel'):\n",
    "    plt.figure(figsize=(6, 4))\n",
    "\n",
    "    plt.bar(range(50), var_exp, alpha=0.5, align='center',\n",
    "            label='Varianza individual explicada', color='g')\n",
    "    plt.step(range(50), cum_var_exp, where='mid', linestyle='--', label='Varianza explicada acumulada')\n",
    "    plt.ylabel('Ratio de Varianza Explicada')\n",
    "    plt.xlabel('Componentes Principales')\n",
    "    plt.legend(loc='best')\n",
    "    plt.tight_layout()"
   ]
  },
  {
   "cell_type": "code",
   "execution_count": null,
   "metadata": {},
   "outputs": [],
   "source": []
  }
 ],
 "metadata": {
  "kernelspec": {
   "display_name": "Python 3 (ipykernel)",
   "language": "python",
   "name": "python3"
  },
  "language_info": {
   "codemirror_mode": {
    "name": "ipython",
    "version": 3
   },
   "file_extension": ".py",
   "mimetype": "text/x-python",
   "name": "python",
   "nbconvert_exporter": "python",
   "pygments_lexer": "ipython3",
   "version": "3.9.2"
  }
 },
 "nbformat": 4,
 "nbformat_minor": 4
}
